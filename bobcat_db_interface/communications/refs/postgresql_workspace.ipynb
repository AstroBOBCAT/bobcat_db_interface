{
 "cells": [
  {
   "cell_type": "code",
   "execution_count": 20,
   "metadata": {},
   "outputs": [],
   "source": [
    "import psycopg2\n",
    "import pandas as pd\n",
    "import csv"
   ]
  },
  {
   "cell_type": "code",
   "execution_count": 183,
   "metadata": {},
   "outputs": [],
   "source": [
    "#establishing the connection\n",
    "conn = psycopg2.connect(\n",
    "   database=\"bobcat_test_new\", user='postgres', password='Astro1123!', host='localhost', port= '5432'\n",
    ")\n",
    "#Creating a cursor object using the cursor() method\n",
    "cur = conn.cursor()"
   ]
  },
  {
   "cell_type": "code",
   "execution_count": 184,
   "metadata": {},
   "outputs": [],
   "source": [
    "cur.execute(\"TRUNCATE binary_model\")\n",
    "cur.execute(\"DROP TABLE binary_model\")"
   ]
  },
  {
   "cell_type": "code",
   "execution_count": 185,
   "metadata": {},
   "outputs": [],
   "source": [
    "cur.execute(\"TRUNCATE candidate\")\n",
    "cur.execute(\"DROP TABLE candidate\")"
   ]
  },
  {
   "cell_type": "code",
   "execution_count": 186,
   "metadata": {},
   "outputs": [],
   "source": [
    "cur.execute(\"CREATE TABLE candidate (\\\n",
    "            name VARCHAR(50),\\\n",
    "            ra_deg FLOAT8,\\\n",
    "            dec_deg FLOAT8,\\\n",
    "            redshift FLOAT8,\\\n",
    "            obs_type_done VARCHAR(3) ARRAY,\\\n",
    "            PRIMARY KEY(name));\")\n",
    "\n",
    "conn.commit()"
   ]
  },
  {
   "cell_type": "code",
   "execution_count": 187,
   "metadata": {},
   "outputs": [],
   "source": [
    "cur.execute(\"CREATE TABLE binary_model (\\\n",
    "    binary_model_id INT GENERATED ALWAYS AS IDENTITY,\\\n",
    "    paper VARCHAR(200),\\\n",
    "    candidate_name VARCHAR(50),\\\n",
    "    eccentricity FLOAT4,\\\n",
    "    m1 FLOAT4,\\\n",
    "    m2 FLOAT4,\\\n",
    "    mtot FLOAT4,\\\n",
    "    mc FLOAT4,\\\n",
    "    mu FLOAT4,\\\n",
    "    q FLOAT4,\\\n",
    "    evid1_type VARCHAR(100),\\\n",
    "    evid1_note VARCHAR(500),\\\n",
    "    evid1_wavelength VARCHAR(25),\\\n",
    "    evid2_type VARCHAR(100),\\\n",
    "    evid2_note VARCHAR(500),\\\n",
    "    evid2_wavelength VARCHAR(25),\\\n",
    "    evid3_type VARCHAR(100),\\\n",
    "    evid3_note VARCHAR(500),\\\n",
    "    evid3_wavelength VARCHAR(25),\\\n",
    "    evid4_type VARCHAR(100),\\\n",
    "    evid4_note VARCHAR(500),\\\n",
    "    evid4_wavelength VARCHAR(25),\\\n",
    "    inclination FLOAT4,\\\n",
    "    semimajor_axis FLOAT4,\\\n",
    "    seperation FLOAT4,\\\n",
    "    period_epoch FLOAT4,\\\n",
    "    orb_freq FLOAT8,\\\n",
    "    orb_period FLOAT8,\\\n",
    "    summary VARCHAR(500),\\\n",
    "    caveats VARCHAR,\\\n",
    "    ext_proj VARCHAR,\\\n",
    "    PRIMARY KEY(binary_model_id),\\\n",
    "    CONSTRAINT fk_candidate_name \\\n",
    "        FOREIGN KEY(candidate_name) \\\n",
    "            REFERENCES candidate(name));\")\n",
    "\n",
    "conn.commit()"
   ]
  },
  {
   "cell_type": "code",
   "execution_count": 188,
   "metadata": {},
   "outputs": [],
   "source": [
    "conn.close()"
   ]
  },
  {
   "cell_type": "code",
   "execution_count": 159,
   "metadata": {},
   "outputs": [
    {
     "data": {
      "text/plain": [
       "[]"
      ]
     },
     "execution_count": 159,
     "metadata": {},
     "output_type": "execute_result"
    }
   ],
   "source": [
    "# Execute a query\n",
    "cur.execute(\"SELECT * FROM candidate\")\n",
    "\n",
    "# Retrieve query results\n",
    "records = cur.fetchall()\n",
    "records"
   ]
  },
  {
   "cell_type": "code",
   "execution_count": 149,
   "metadata": {},
   "outputs": [],
   "source": [
    "cur.execute(\"INSERT INTO candidate(name, ra_deg, dec_deg, redshift, obs_type_done) \\\n",
    "VALUES ('UGC 01841',35.797546666666669435834958,42.992051111111238903485904580345111,0.02092, '{r, g}');\")\n",
    "conn.commit()\n"
   ]
  },
  {
   "cell_type": "code",
   "execution_count": 22,
   "metadata": {},
   "outputs": [],
   "source": [
    "cur.execute(\"INSERT INTO source(Name, RA_hms, Dec_dms, RA_deg, Dec_deg, Redshift, Observation_done) \\\n",
    "VALUES ('OJ +287','08h54m48.875s','+20d06m30.6396s',133.70364583333333,20.108511,0.3056,'visible');\")\n",
    "\n",
    "conn.commit()"
   ]
  },
  {
   "cell_type": "code",
   "execution_count": 23,
   "metadata": {},
   "outputs": [],
   "source": [
    "cur.execute(\"INSERT INTO source(Name, RA_hms, Dec_dms, RA_deg, Dec_deg, Redshift, Observation_done) \\\n",
    "VALUES ('ARK 120','05h16m11.4092s','-00d08m59.1572s',79.04753833333334,-0.1497658888888889,0.03271,'visible, UV');\")\n",
    "\n",
    "conn.commit()"
   ]
  },
  {
   "cell_type": "code",
   "execution_count": 45,
   "metadata": {},
   "outputs": [
    {
     "ename": "UniqueViolation",
     "evalue": "duplicate key value violates unique constraint \"source_pkey\"\nDETAIL:  Key (name)=(UM 384) already exists.\n",
     "output_type": "error",
     "traceback": [
      "\u001b[0;31m---------------------------------------------------------------------------\u001b[0m",
      "\u001b[0;31mUniqueViolation\u001b[0m                           Traceback (most recent call last)",
      "\u001b[0;32m<ipython-input-45-189636ab9dce>\u001b[0m in \u001b[0;36m<module>\u001b[0;34m\u001b[0m\n\u001b[0;32m----> 1\u001b[0;31m \u001b[0mcur\u001b[0m\u001b[0;34m.\u001b[0m\u001b[0mexecute\u001b[0m\u001b[0;34m(\u001b[0m\u001b[0;34m\"INSERT INTO source(Name, RA_hms, Dec_dms, RA_deg, Dec_deg, Redshift, Observation_done) VALUES ('UM 384','01h59m10.0554s','+01d05m14.5776s',29.791897499999997,1.0873826666666666,0.217,'visible, X-ray, UV');\"\u001b[0m\u001b[0;34m)\u001b[0m\u001b[0;34m\u001b[0m\u001b[0;34m\u001b[0m\u001b[0m\n\u001b[0m\u001b[1;32m      2\u001b[0m \u001b[0;34m\u001b[0m\u001b[0m\n\u001b[1;32m      3\u001b[0m \u001b[0mconn\u001b[0m\u001b[0;34m.\u001b[0m\u001b[0mcommit\u001b[0m\u001b[0;34m(\u001b[0m\u001b[0;34m)\u001b[0m\u001b[0;34m\u001b[0m\u001b[0;34m\u001b[0m\u001b[0m\n",
      "\u001b[0;31mUniqueViolation\u001b[0m: duplicate key value violates unique constraint \"source_pkey\"\nDETAIL:  Key (name)=(UM 384) already exists.\n"
     ]
    }
   ],
   "source": [
    "cur.execute(\"INSERT INTO source(Name, RA_hms, Dec_dms, RA_deg, Dec_deg, Redshift, Observation_done) VALUES ('UM 384','01h59m10.0554s','+01d05m14.5776s',29.791897499999997,1.0873826666666666,0.217,'visible, X-ray, UV');\")\n",
    "\n",
    "conn.commit()"
   ]
  },
  {
   "cell_type": "code",
   "execution_count": 50,
   "metadata": {},
   "outputs": [],
   "source": [
    "cur.execute(\"INSERT INTO source(Name, RA_hms, Dec_dms, RA_deg, Dec_deg, Redshift, Observation_done) VALUES ('NGC 4151','12h10m32.576s','+39d24m21.0635s',182.63573333333332,39.40585097222222,0.0033,'visible, x-ray, radio, UV');\")\n",
    "\n",
    "conn.commit()"
   ]
  },
  {
   "cell_type": "code",
   "execution_count": 56,
   "metadata": {},
   "outputs": [],
   "source": [
    "cur.execute(\"INSERT INTO source(Name, RA_hms, Dec_dms, RA_deg, Dec_deg, Redshift, Observation_done) VALUES ('NGC 6240','16h52m58.861s','+02d24m03.55s',253.24525416666665,2.400986111111111,0.0243,'radio, x-ray, visible');\")\n",
    "\n",
    "conn.commit()"
   ]
  },
  {
   "cell_type": "code",
   "execution_count": null,
   "metadata": {},
   "outputs": [],
   "source": []
  },
  {
   "cell_type": "code",
   "execution_count": null,
   "metadata": {},
   "outputs": [],
   "source": []
  },
  {
   "cell_type": "code",
   "execution_count": null,
   "metadata": {},
   "outputs": [],
   "source": []
  },
  {
   "cell_type": "code",
   "execution_count": null,
   "metadata": {},
   "outputs": [],
   "source": []
  },
  {
   "cell_type": "code",
   "execution_count": 24,
   "metadata": {},
   "outputs": [],
   "source": [
    "cur.execute(\"INSERT INTO model(Model_ID, Source_Name, Paper_link,Evidence, m1, m2, m_tot, q, m_chirp, mu, eccentricity, inclination, semimajor_axis, GW_strain, GW_frequency,orb_frequency, orb_period, summary) VALUES (0, 'UGC 01841', 'https://iopscience.iop.org/article/10.3847/1538-4357/ababa1', '', NULL, NULL, NULL, NULL, 1650000000.0, NULL, 0, NULL, NULL, 2.47e-14, 60.4, NULL, 1.05, 'this paper is mainly rerunning info to get better upper limits, no new evidence of it was found');\")\n",
    "conn.commit()\n"
   ]
  },
  {
   "cell_type": "code",
   "execution_count": 26,
   "metadata": {},
   "outputs": [],
   "source": [
    "cur.execute(\"INSERT INTO model(Model_ID, Source_Name, Paper_link,Evidence, m1, m2, m_tot, q, m_chirp, mu, eccentricity, inclination, semimajor_axis, GW_strain, GW_frequency,orb_frequency, orb_period, summary) VALUES (1,'UGC 01841', 'https://ui.adsabs.harvard.edu/abs/2004A%26A...426..379D/abstract', '', NULL, NULL, NULL, NULL, NULL, NULL, NULL, NULL, NULL, NULL, NULL, NULL, NULL, 'this paper is just studying the astrophysical implications of a SMBHB in 3C66B; states that periodic behavior of the light curve in the x-ray and/or gamma-ray bands and a certain flux ratio are expected, getting these measurements would allow other parameters to be determined');\") \n",
    "conn.commit()\n"
   ]
  },
  {
   "cell_type": "code",
   "execution_count": 28,
   "metadata": {},
   "outputs": [],
   "source": [
    "cur.execute(\"INSERT INTO model(Model_ID, Source_Name, Paper_link,Evidence, m1, m2, m_tot, q, m_chirp, mu, eccentricity, inclination, semimajor_axis, GW_strain, GW_frequency,orb_frequency, orb_period, summary) VALUES (2, 'UGC 01841', 'https://ui.adsabs.harvard.edu/abs/2003Sci...300.1263S/abstract', 'ongoing jet precession', 54000000000.0, 5400000000.0, 59400000000.0, 0.1, 13308074480.436642, 4909090909.090909, 0, NULL, NULL, NULL, NULL, NULL, 1.05, 'the elliptical motion of the radio core i attributable to the combination of the orbital and precession motions of a SMB in 3C 66B, whereas the core motion at 2.3 GHz is dominated by the precession motion of the jet, which at 8.4 GHz is dominated by the orbital motion of the SMB');\") \n",
    "conn.commit()"
   ]
  },
  {
   "cell_type": "code",
   "execution_count": 29,
   "metadata": {},
   "outputs": [],
   "source": [
    "cur.execute(\"INSERT INTO model(Model_ID, Source_Name, Paper_link,Evidence, m1, m2, m_tot, q, m_chirp, mu, eccentricity, inclination, semimajor_axis, GW_strain, GW_frequency,orb_frequency, orb_period, summary) VALUES (3, 'UGC 01841', 'https://ui.adsabs.harvard.edu/abs/2010ApJ...724L.166I/abstract', 'periodic flux', 1200000000.0, 700000000.0, 1900000000.0, 0.5833333333333334, 792167191.1404579, 442105263.15789473, NULL, 5.3, NULL, NULL, NULL, NULL, NULL, '');\") \n",
    "conn.commit()"
   ]
  },
  {
   "cell_type": "code",
   "execution_count": 30,
   "metadata": {},
   "outputs": [],
   "source": [
    "cur.execute(\"INSERT INTO model(Model_ID, Source_Name, Paper_link,Evidence, m1, m2, m_tot, q, m_chirp, mu, eccentricity, inclination, semimajor_axis, GW_strain, GW_frequency,orb_frequency, orb_period, summary) VALUES (4, 'OJ +287', 'https://ui.adsabs.harvard.edu/abs/1988ApJ...325..628S/abstract', 'periodic flux', 5000000000.0, 20000000.0, 5020000000.0, 0.004, 181911123.69262147, 19920318.7250996, 0.7, NULL, NULL, NULL, NULL, NULL, 11.65, '');\") \n",
    "\n",
    "conn.commit()"
   ]
  },
  {
   "cell_type": "code",
   "execution_count": 31,
   "metadata": {},
   "outputs": [],
   "source": [
    "cur.execute(\"INSERT INTO model(Model_ID, Source_Name, Paper_link,Evidence, m1, m2, m_tot, q, m_chirp, mu, eccentricity, inclination, semimajor_axis, GW_strain, GW_frequency,orb_frequency, orb_period, summary) VALUES (5, 'ARK 120', 'https://ui.adsabs.harvard.edu/abs/2019ApJS..241...33L/abstract', 'periodic flux; offset/double emission lines', NULL, NULL, 260000000.0, NULL, NULL, NULL, NULL, NULL, 0.02, 1e-17, NULL, NULL, 20.5, '');\") \n",
    "\n",
    "conn.commit()"
   ]
  },
  {
   "cell_type": "code",
   "execution_count": 49,
   "metadata": {},
   "outputs": [],
   "source": [
    "cur.execute(\"INSERT INTO model(Model_ID, Source_Name, Paper_link,Evidence, m1, m2, m_tot, q, m_chirp, mu, eccentricity, inclination, semimajor_axis, GW_strain, GW_frequency,orb_frequency, orb_period, summary) VALUES (6,'UM 384','https://ui.adsabs.harvard.edu/abs/2016ApJ...827...56Z/abstract', 'periodoic flux; broad-band SED features', NULL, NULL, 130000000.0, NULL, NULL, NULL, NULL, NULL, NULL, NULL, NULL, NULL, 4.101369863013699, '');\") \n",
    "\n",
    "conn.commit()"
   ]
  },
  {
   "cell_type": "code",
   "execution_count": 55,
   "metadata": {},
   "outputs": [],
   "source": [
    "cur.execute(\"INSERT INTO model(Model_ID, Source_Name, Paper_link,Evidence, m1, m2, m_tot, q, m_chirp, mu, eccentricity, inclination, semimajor_axis, GW_strain, GW_frequency,orb_frequency, orb_period, summary) VALUES (7,'NGC 4151', 'https://ui.adsabs.harvard.edu/abs/2012ApJ...759..118B/abstract', 'periodoic flux', 44000000.0, 12000000.0, 56000000.0, 0.2727272727272727, 19228382.29576192, 9428571.42857143, 0.42, NULL, NULL, NULL, NULL, NULL, 15.7, '');\") \n",
    "\n",
    "conn.commit()"
   ]
  },
  {
   "cell_type": "code",
   "execution_count": 57,
   "metadata": {},
   "outputs": [],
   "source": [
    "cur.execute(\"INSERT INTO model(Model_ID, Source_Name, Paper_link,Evidence, m1, m2, m_tot, q, m_chirp, mu, eccentricity, inclination, semimajor_axis, GW_strain, GW_frequency,orb_frequency, orb_period, summary) VALUES (8,'NGC 6240', 'https://ui.adsabs.harvard.edu/abs/2022MNRAS.517.1791S/abstract', 'resolved offset-single or dual-core', 1360000000.0, 680000000.0, 2040000000.0, 0.5, 827375504.9747608, 453333333.3333333, NULL, NULL, NULL, NULL, NULL, NULL, NULL, '');\") \n",
    "\n",
    "conn.commit()"
   ]
  },
  {
   "cell_type": "code",
   "execution_count": 58,
   "metadata": {},
   "outputs": [],
   "source": [
    "cur.execute(\"INSERT INTO model(Model_ID, Source_Name, Paper_link,Evidence, m1, m2, m_tot, q, m_chirp, mu, eccentricity, inclination, semimajor_axis, GW_strain, GW_frequency,orb_frequency, orb_period, summary) VALUES (9,'NGC 6240', 'https://ui.adsabs.harvard.edu/abs/2020A%26A...633A..79K/abstract', 'resolved offset-single or dual-core', 360000000.0, 160000000.0, 520000000.0, 0.4444444444444444, 205614066.0118345, 110769230.76923077, NULL, NULL, NULL, NULL, NULL, NULL, NULL, '');\") \n",
    "\n",
    "conn.commit()"
   ]
  },
  {
   "cell_type": "code",
   "execution_count": null,
   "metadata": {},
   "outputs": [],
   "source": []
  },
  {
   "cell_type": "code",
   "execution_count": null,
   "metadata": {},
   "outputs": [],
   "source": []
  },
  {
   "cell_type": "code",
   "execution_count": null,
   "metadata": {},
   "outputs": [],
   "source": []
  },
  {
   "cell_type": "code",
   "execution_count": null,
   "metadata": {},
   "outputs": [],
   "source": []
  },
  {
   "cell_type": "code",
   "execution_count": null,
   "metadata": {},
   "outputs": [],
   "source": []
  },
  {
   "cell_type": "code",
   "execution_count": 20,
   "metadata": {
    "scrolled": true
   },
   "outputs": [],
   "source": [
    "cur.execute(\"INSERT INTO source(Name, RA_hms, Dec_dms, RA_deg, Dec_deg, Redshift, Observation_done) VALUES (%s, %s, %s, %s, %s, %s, %s);\", ['3C66B', '02h23m11.4112s', '+42d59m31.384s', 44, 89, 0.02, 'radio,visibile'])\n",
    "conn.commit() "
   ]
  },
  {
   "cell_type": "code",
   "execution_count": 21,
   "metadata": {},
   "outputs": [],
   "source": [
    "cur.execute(\"INSERT INTO source(Name, RA_hms, Dec_dms, RA_deg, Dec_deg, Redshift, Observation_done) VALUES (%s, %s, %s, %s, %s, %s, %s);\", ['OJ287', '08h54m49s', '+20d06m31s', 133.70416666666665, 20.108611111111113, 0.3056, 'radio'])\n",
    "conn.commit() "
   ]
  },
  {
   "cell_type": "code",
   "execution_count": null,
   "metadata": {},
   "outputs": [],
   "source": []
  },
  {
   "cell_type": "code",
   "execution_count": null,
   "metadata": {},
   "outputs": [],
   "source": []
  },
  {
   "cell_type": "code",
   "execution_count": 22,
   "metadata": {},
   "outputs": [],
   "source": [
    "cur.execute(\"INSERT INTO model(Model_ID, Source_Name, Paper_link, Evidence, m1, m2, m_tot, q, m_chirp, mu) VALUES (%s, %s, %s, %s, %s, %s, %s, %s, %s, %s);\", [1, '3C66B','http://iopscience.iop.org/article/10.1086/383020/pdf','connected to 3c66b limits from timing residual models induced by gravitational wave emission', 1.2e9,7e8,1.2e8+7e8,7e8/1.2e9,7.92e8,0])\n",
    "conn.commit()"
   ]
  },
  {
   "cell_type": "code",
   "execution_count": 23,
   "metadata": {},
   "outputs": [],
   "source": [
    "cur.execute(\"INSERT INTO model(Model_ID, Source_Name, Paper_link, Evidence, m1, m2, m_tot, q, m_chirp, mu) VALUES (%s, %s, %s, %s, %s, %s, %s, %s, %s, %s);\", [2, '3C66B','https://iopscience.iop.org/article/10.3847/1538-4357/ababa1/pdf', 'connected to 3c66b observed periodicities present in the photometric and astrometric data',0 ,0,0,0, 1.65e9,0])\n",
    "conn.commit()"
   ]
  },
  {
   "cell_type": "code",
   "execution_count": 24,
   "metadata": {},
   "outputs": [],
   "source": [
    "cur.execute(\"INSERT INTO model(Model_ID, Source_Name, Paper_link, Evidence, m1, m2, m_tot, q, m_chirp, mu) VALUES (%s, %s, %s, %s, %s, %s, %s, %s, %s, %s);\", [0, 'OJ287', 'http://articles.adsabs.harvard.edu/cgi-bin/nph-iarticle_query?1988ApJ...325..628S&amp;data_type=PDF_HIGH&amp;whole_paper=YES&amp;type=PRINTER&amp;filetype=.pdf','connected to oj287 double-peaked periodicity', 5e9,7e8,5e9+7e8,7e8/5e9,0,0])\n",
    "conn.commit()"
   ]
  },
  {
   "cell_type": "code",
   "execution_count": 25,
   "metadata": {},
   "outputs": [],
   "source": [
    "cur.execute(\"INSERT INTO model(Model_ID, Source_Name, Paper_link, Evidence, m1, m2, m_tot, q, m_chirp, mu) VALUES (%s, %s, %s, %s, %s, %s, %s, %s, %s, %s);\", [3, 'OJ287', 'http://articles.adsabs.harvard.edu/cgi-bin/nph-iarticle_query?1988ApJ...325..628S&amp;data_type=PDF_HIGH&amp;whole_paper=YES&amp;type=PRINTER&amp;filetype=.pdf','connected to oj287 double-peaked periodicity', 5e9,7e8,5e9+7e8,7e8/5e9,7.92e8,0])\n",
    "conn.commit()"
   ]
  },
  {
   "cell_type": "code",
   "execution_count": 59,
   "metadata": {},
   "outputs": [
    {
     "data": {
      "text/html": [
       "<div>\n",
       "<style scoped>\n",
       "    .dataframe tbody tr th:only-of-type {\n",
       "        vertical-align: middle;\n",
       "    }\n",
       "\n",
       "    .dataframe tbody tr th {\n",
       "        vertical-align: top;\n",
       "    }\n",
       "\n",
       "    .dataframe thead th {\n",
       "        text-align: right;\n",
       "    }\n",
       "</style>\n",
       "<table border=\"1\" class=\"dataframe\">\n",
       "  <thead>\n",
       "    <tr style=\"text-align: right;\">\n",
       "      <th></th>\n",
       "      <th>name</th>\n",
       "      <th>ra_hms</th>\n",
       "      <th>dec_dms</th>\n",
       "      <th>ra_deg</th>\n",
       "      <th>dec_deg</th>\n",
       "      <th>redshift</th>\n",
       "      <th>observation_done</th>\n",
       "    </tr>\n",
       "  </thead>\n",
       "  <tbody>\n",
       "    <tr>\n",
       "      <th>0</th>\n",
       "      <td>UGC 01841</td>\n",
       "      <td>02h23m11.4112s</td>\n",
       "      <td>+42d59m31.384s</td>\n",
       "      <td>35.79754666666666</td>\n",
       "      <td>42.99205111111111</td>\n",
       "      <td>0.02092</td>\n",
       "      <td>radio, microwave</td>\n",
       "    </tr>\n",
       "    <tr>\n",
       "      <th>1</th>\n",
       "      <td>OJ +287</td>\n",
       "      <td>08h54m48.875s</td>\n",
       "      <td>+20d06m30.6396s</td>\n",
       "      <td>133.70364583333333</td>\n",
       "      <td>20.108511</td>\n",
       "      <td>0.3056</td>\n",
       "      <td>visible</td>\n",
       "    </tr>\n",
       "    <tr>\n",
       "      <th>2</th>\n",
       "      <td>ARK 120</td>\n",
       "      <td>05h16m11.4092s</td>\n",
       "      <td>-00d08m59.1572s</td>\n",
       "      <td>79.04753833333334</td>\n",
       "      <td>-0.1497658888888889</td>\n",
       "      <td>0.03271</td>\n",
       "      <td>visible, UV</td>\n",
       "    </tr>\n",
       "    <tr>\n",
       "      <th>3</th>\n",
       "      <td>UM 384</td>\n",
       "      <td>01h59m10.0554s</td>\n",
       "      <td>+01d05m14.5776s</td>\n",
       "      <td>29.791897499999997</td>\n",
       "      <td>1.0873826666666666</td>\n",
       "      <td>0.217</td>\n",
       "      <td>visible, X-ray, UV</td>\n",
       "    </tr>\n",
       "    <tr>\n",
       "      <th>4</th>\n",
       "      <td>NGC 4151</td>\n",
       "      <td>12h10m32.576s</td>\n",
       "      <td>+39d24m21.0635s</td>\n",
       "      <td>182.63573333333332</td>\n",
       "      <td>39.40585097222222</td>\n",
       "      <td>0.0033</td>\n",
       "      <td>visible, x-ray, radio, UV</td>\n",
       "    </tr>\n",
       "    <tr>\n",
       "      <th>5</th>\n",
       "      <td>NGC 6240</td>\n",
       "      <td>16h52m58.861s</td>\n",
       "      <td>+02d24m03.55s</td>\n",
       "      <td>253.24525416666665</td>\n",
       "      <td>2.400986111111111</td>\n",
       "      <td>0.0243</td>\n",
       "      <td>radio, x-ray, visible</td>\n",
       "    </tr>\n",
       "  </tbody>\n",
       "</table>\n",
       "</div>"
      ],
      "text/plain": [
       "        name          ra_hms          dec_dms              ra_deg  \\\n",
       "0  UGC 01841  02h23m11.4112s   +42d59m31.384s   35.79754666666666   \n",
       "1    OJ +287   08h54m48.875s  +20d06m30.6396s  133.70364583333333   \n",
       "2    ARK 120  05h16m11.4092s  -00d08m59.1572s   79.04753833333334   \n",
       "3     UM 384  01h59m10.0554s  +01d05m14.5776s  29.791897499999997   \n",
       "4   NGC 4151   12h10m32.576s  +39d24m21.0635s  182.63573333333332   \n",
       "5   NGC 6240   16h52m58.861s    +02d24m03.55s  253.24525416666665   \n",
       "\n",
       "               dec_deg redshift           observation_done  \n",
       "0    42.99205111111111  0.02092           radio, microwave  \n",
       "1            20.108511   0.3056                    visible  \n",
       "2  -0.1497658888888889  0.03271                visible, UV  \n",
       "3   1.0873826666666666    0.217         visible, X-ray, UV  \n",
       "4    39.40585097222222   0.0033  visible, x-ray, radio, UV  \n",
       "5    2.400986111111111   0.0243      radio, x-ray, visible  "
      ]
     },
     "execution_count": 59,
     "metadata": {},
     "output_type": "execute_result"
    }
   ],
   "source": [
    "cur.execute(\"SELECT * FROM source\")\n",
    "df = pd.DataFrame(cur.fetchall())\n",
    "df.columns = [x[0] for x in cur.description]\n",
    "df"
   ]
  },
  {
   "cell_type": "code",
   "execution_count": 60,
   "metadata": {},
   "outputs": [
    {
     "data": {
      "text/html": [
       "<div>\n",
       "<style scoped>\n",
       "    .dataframe tbody tr th:only-of-type {\n",
       "        vertical-align: middle;\n",
       "    }\n",
       "\n",
       "    .dataframe tbody tr th {\n",
       "        vertical-align: top;\n",
       "    }\n",
       "\n",
       "    .dataframe thead th {\n",
       "        text-align: right;\n",
       "    }\n",
       "</style>\n",
       "<table border=\"1\" class=\"dataframe\">\n",
       "  <thead>\n",
       "    <tr style=\"text-align: right;\">\n",
       "      <th></th>\n",
       "      <th>model_id</th>\n",
       "      <th>source_name</th>\n",
       "      <th>paper_link</th>\n",
       "      <th>evidence</th>\n",
       "      <th>m1</th>\n",
       "      <th>m2</th>\n",
       "      <th>m_tot</th>\n",
       "      <th>q</th>\n",
       "      <th>m_chirp</th>\n",
       "      <th>mu</th>\n",
       "      <th>eccentricity</th>\n",
       "      <th>inclination</th>\n",
       "      <th>semimajor_axis</th>\n",
       "      <th>gw_strain</th>\n",
       "      <th>gw_frequency</th>\n",
       "      <th>orb_frequency</th>\n",
       "      <th>orb_period</th>\n",
       "      <th>summary</th>\n",
       "    </tr>\n",
       "  </thead>\n",
       "  <tbody>\n",
       "    <tr>\n",
       "      <th>0</th>\n",
       "      <td>0</td>\n",
       "      <td>UGC 01841</td>\n",
       "      <td>https://iopscience.iop.org/article/10.3847/153...</td>\n",
       "      <td></td>\n",
       "      <td>None</td>\n",
       "      <td>None</td>\n",
       "      <td>None</td>\n",
       "      <td>None</td>\n",
       "      <td>1650000000.0</td>\n",
       "      <td>None</td>\n",
       "      <td>0</td>\n",
       "      <td>None</td>\n",
       "      <td>None</td>\n",
       "      <td>2.47E-14</td>\n",
       "      <td>60.4</td>\n",
       "      <td>None</td>\n",
       "      <td>1.05</td>\n",
       "      <td>this paper is mainly rerunning info to get bet...</td>\n",
       "    </tr>\n",
       "    <tr>\n",
       "      <th>1</th>\n",
       "      <td>1</td>\n",
       "      <td>UGC 01841</td>\n",
       "      <td>https://ui.adsabs.harvard.edu/abs/2004A%26A......</td>\n",
       "      <td></td>\n",
       "      <td>None</td>\n",
       "      <td>None</td>\n",
       "      <td>None</td>\n",
       "      <td>None</td>\n",
       "      <td>None</td>\n",
       "      <td>None</td>\n",
       "      <td>None</td>\n",
       "      <td>None</td>\n",
       "      <td>None</td>\n",
       "      <td>None</td>\n",
       "      <td>None</td>\n",
       "      <td>None</td>\n",
       "      <td>None</td>\n",
       "      <td>this paper is just studying the astrophysical ...</td>\n",
       "    </tr>\n",
       "    <tr>\n",
       "      <th>2</th>\n",
       "      <td>2</td>\n",
       "      <td>UGC 01841</td>\n",
       "      <td>https://ui.adsabs.harvard.edu/abs/2003Sci...30...</td>\n",
       "      <td>ongoing jet precession</td>\n",
       "      <td>54000000000.0</td>\n",
       "      <td>5400000000.0</td>\n",
       "      <td>59400000000.0</td>\n",
       "      <td>0.1</td>\n",
       "      <td>13308074480.436642</td>\n",
       "      <td>4909090909.090909</td>\n",
       "      <td>0</td>\n",
       "      <td>None</td>\n",
       "      <td>None</td>\n",
       "      <td>None</td>\n",
       "      <td>None</td>\n",
       "      <td>None</td>\n",
       "      <td>1.05</td>\n",
       "      <td>the elliptical motion of the radio core i attr...</td>\n",
       "    </tr>\n",
       "    <tr>\n",
       "      <th>3</th>\n",
       "      <td>3</td>\n",
       "      <td>UGC 01841</td>\n",
       "      <td>https://ui.adsabs.harvard.edu/abs/2010ApJ...72...</td>\n",
       "      <td>periodic flux</td>\n",
       "      <td>1200000000.0</td>\n",
       "      <td>700000000.0</td>\n",
       "      <td>1900000000.0</td>\n",
       "      <td>0.5833333333333334</td>\n",
       "      <td>792167191.1404579</td>\n",
       "      <td>442105263.15789473</td>\n",
       "      <td>None</td>\n",
       "      <td>5.3</td>\n",
       "      <td>None</td>\n",
       "      <td>None</td>\n",
       "      <td>None</td>\n",
       "      <td>None</td>\n",
       "      <td>None</td>\n",
       "      <td></td>\n",
       "    </tr>\n",
       "    <tr>\n",
       "      <th>4</th>\n",
       "      <td>4</td>\n",
       "      <td>OJ +287</td>\n",
       "      <td>https://ui.adsabs.harvard.edu/abs/1988ApJ...32...</td>\n",
       "      <td>periodic flux</td>\n",
       "      <td>5000000000.0</td>\n",
       "      <td>20000000.0</td>\n",
       "      <td>5020000000.0</td>\n",
       "      <td>0.004</td>\n",
       "      <td>181911123.69262147</td>\n",
       "      <td>19920318.7250996</td>\n",
       "      <td>0.7</td>\n",
       "      <td>None</td>\n",
       "      <td>None</td>\n",
       "      <td>None</td>\n",
       "      <td>None</td>\n",
       "      <td>None</td>\n",
       "      <td>11.65</td>\n",
       "      <td></td>\n",
       "    </tr>\n",
       "    <tr>\n",
       "      <th>5</th>\n",
       "      <td>5</td>\n",
       "      <td>ARK 120</td>\n",
       "      <td>https://ui.adsabs.harvard.edu/abs/2019ApJS..24...</td>\n",
       "      <td>periodic flux; offset/double emission lines</td>\n",
       "      <td>None</td>\n",
       "      <td>None</td>\n",
       "      <td>260000000.0</td>\n",
       "      <td>None</td>\n",
       "      <td>None</td>\n",
       "      <td>None</td>\n",
       "      <td>None</td>\n",
       "      <td>None</td>\n",
       "      <td>0.02</td>\n",
       "      <td>1E-17</td>\n",
       "      <td>None</td>\n",
       "      <td>None</td>\n",
       "      <td>20.5</td>\n",
       "      <td></td>\n",
       "    </tr>\n",
       "    <tr>\n",
       "      <th>6</th>\n",
       "      <td>6</td>\n",
       "      <td>UM 384</td>\n",
       "      <td>https://ui.adsabs.harvard.edu/abs/2016ApJ...82...</td>\n",
       "      <td>periodoic flux; broad-band SED features</td>\n",
       "      <td>None</td>\n",
       "      <td>None</td>\n",
       "      <td>130000000.0</td>\n",
       "      <td>None</td>\n",
       "      <td>None</td>\n",
       "      <td>None</td>\n",
       "      <td>None</td>\n",
       "      <td>None</td>\n",
       "      <td>None</td>\n",
       "      <td>None</td>\n",
       "      <td>None</td>\n",
       "      <td>None</td>\n",
       "      <td>4.101369863013699</td>\n",
       "      <td></td>\n",
       "    </tr>\n",
       "    <tr>\n",
       "      <th>7</th>\n",
       "      <td>7</td>\n",
       "      <td>NGC 4151</td>\n",
       "      <td>https://ui.adsabs.harvard.edu/abs/2012ApJ...75...</td>\n",
       "      <td>periodoic flux</td>\n",
       "      <td>44000000.0</td>\n",
       "      <td>12000000.0</td>\n",
       "      <td>56000000.0</td>\n",
       "      <td>0.2727272727272727</td>\n",
       "      <td>19228382.29576192</td>\n",
       "      <td>9428571.42857143</td>\n",
       "      <td>0.42</td>\n",
       "      <td>None</td>\n",
       "      <td>None</td>\n",
       "      <td>None</td>\n",
       "      <td>None</td>\n",
       "      <td>None</td>\n",
       "      <td>15.7</td>\n",
       "      <td></td>\n",
       "    </tr>\n",
       "    <tr>\n",
       "      <th>8</th>\n",
       "      <td>8</td>\n",
       "      <td>NGC 6240</td>\n",
       "      <td>https://ui.adsabs.harvard.edu/abs/2022MNRAS.51...</td>\n",
       "      <td>resolved offset-single or dual-core</td>\n",
       "      <td>1360000000.0</td>\n",
       "      <td>680000000.0</td>\n",
       "      <td>2040000000.0</td>\n",
       "      <td>0.5</td>\n",
       "      <td>827375504.9747608</td>\n",
       "      <td>453333333.3333333</td>\n",
       "      <td>None</td>\n",
       "      <td>None</td>\n",
       "      <td>None</td>\n",
       "      <td>None</td>\n",
       "      <td>None</td>\n",
       "      <td>None</td>\n",
       "      <td>None</td>\n",
       "      <td></td>\n",
       "    </tr>\n",
       "    <tr>\n",
       "      <th>9</th>\n",
       "      <td>9</td>\n",
       "      <td>NGC 6240</td>\n",
       "      <td>https://ui.adsabs.harvard.edu/abs/2020A%26A......</td>\n",
       "      <td>resolved offset-single or dual-core</td>\n",
       "      <td>360000000.0</td>\n",
       "      <td>160000000.0</td>\n",
       "      <td>520000000.0</td>\n",
       "      <td>0.4444444444444444</td>\n",
       "      <td>205614066.0118345</td>\n",
       "      <td>110769230.76923077</td>\n",
       "      <td>None</td>\n",
       "      <td>None</td>\n",
       "      <td>None</td>\n",
       "      <td>None</td>\n",
       "      <td>None</td>\n",
       "      <td>None</td>\n",
       "      <td>None</td>\n",
       "      <td></td>\n",
       "    </tr>\n",
       "  </tbody>\n",
       "</table>\n",
       "</div>"
      ],
      "text/plain": [
       "  model_id source_name                                         paper_link  \\\n",
       "0        0   UGC 01841  https://iopscience.iop.org/article/10.3847/153...   \n",
       "1        1   UGC 01841  https://ui.adsabs.harvard.edu/abs/2004A%26A......   \n",
       "2        2   UGC 01841  https://ui.adsabs.harvard.edu/abs/2003Sci...30...   \n",
       "3        3   UGC 01841  https://ui.adsabs.harvard.edu/abs/2010ApJ...72...   \n",
       "4        4     OJ +287  https://ui.adsabs.harvard.edu/abs/1988ApJ...32...   \n",
       "5        5     ARK 120  https://ui.adsabs.harvard.edu/abs/2019ApJS..24...   \n",
       "6        6      UM 384  https://ui.adsabs.harvard.edu/abs/2016ApJ...82...   \n",
       "7        7    NGC 4151  https://ui.adsabs.harvard.edu/abs/2012ApJ...75...   \n",
       "8        8    NGC 6240  https://ui.adsabs.harvard.edu/abs/2022MNRAS.51...   \n",
       "9        9    NGC 6240  https://ui.adsabs.harvard.edu/abs/2020A%26A......   \n",
       "\n",
       "                                      evidence             m1            m2  \\\n",
       "0                                                        None          None   \n",
       "1                                                        None          None   \n",
       "2                       ongoing jet precession  54000000000.0  5400000000.0   \n",
       "3                                periodic flux   1200000000.0   700000000.0   \n",
       "4                                periodic flux   5000000000.0    20000000.0   \n",
       "5  periodic flux; offset/double emission lines           None          None   \n",
       "6      periodoic flux; broad-band SED features           None          None   \n",
       "7                               periodoic flux     44000000.0    12000000.0   \n",
       "8          resolved offset-single or dual-core   1360000000.0   680000000.0   \n",
       "9          resolved offset-single or dual-core    360000000.0   160000000.0   \n",
       "\n",
       "           m_tot                   q             m_chirp                  mu  \\\n",
       "0           None                None        1650000000.0                None   \n",
       "1           None                None                None                None   \n",
       "2  59400000000.0                 0.1  13308074480.436642   4909090909.090909   \n",
       "3   1900000000.0  0.5833333333333334   792167191.1404579  442105263.15789473   \n",
       "4   5020000000.0               0.004  181911123.69262147    19920318.7250996   \n",
       "5    260000000.0                None                None                None   \n",
       "6    130000000.0                None                None                None   \n",
       "7     56000000.0  0.2727272727272727   19228382.29576192    9428571.42857143   \n",
       "8   2040000000.0                 0.5   827375504.9747608   453333333.3333333   \n",
       "9    520000000.0  0.4444444444444444   205614066.0118345  110769230.76923077   \n",
       "\n",
       "  eccentricity inclination semimajor_axis gw_strain gw_frequency  \\\n",
       "0            0        None           None  2.47E-14         60.4   \n",
       "1         None        None           None      None         None   \n",
       "2            0        None           None      None         None   \n",
       "3         None         5.3           None      None         None   \n",
       "4          0.7        None           None      None         None   \n",
       "5         None        None           0.02     1E-17         None   \n",
       "6         None        None           None      None         None   \n",
       "7         0.42        None           None      None         None   \n",
       "8         None        None           None      None         None   \n",
       "9         None        None           None      None         None   \n",
       "\n",
       "  orb_frequency         orb_period  \\\n",
       "0          None               1.05   \n",
       "1          None               None   \n",
       "2          None               1.05   \n",
       "3          None               None   \n",
       "4          None              11.65   \n",
       "5          None               20.5   \n",
       "6          None  4.101369863013699   \n",
       "7          None               15.7   \n",
       "8          None               None   \n",
       "9          None               None   \n",
       "\n",
       "                                             summary  \n",
       "0  this paper is mainly rerunning info to get bet...  \n",
       "1  this paper is just studying the astrophysical ...  \n",
       "2  the elliptical motion of the radio core i attr...  \n",
       "3                                                     \n",
       "4                                                     \n",
       "5                                                     \n",
       "6                                                     \n",
       "7                                                     \n",
       "8                                                     \n",
       "9                                                     "
      ]
     },
     "execution_count": 60,
     "metadata": {},
     "output_type": "execute_result"
    }
   ],
   "source": [
    "cur.execute(\"SELECT * FROM model\")\n",
    "df = pd.DataFrame(cur.fetchall())\n",
    "df.columns = [x[0] for x in cur.description]\n",
    "df"
   ]
  },
  {
   "cell_type": "code",
   "execution_count": 19,
   "metadata": {},
   "outputs": [],
   "source": [
    "conn.close()"
   ]
  },
  {
   "cell_type": "code",
   "execution_count": null,
   "metadata": {},
   "outputs": [],
   "source": []
  },
  {
   "cell_type": "code",
   "execution_count": null,
   "metadata": {},
   "outputs": [],
   "source": []
  },
  {
   "cell_type": "code",
   "execution_count": null,
   "metadata": {},
   "outputs": [],
   "source": []
  },
  {
   "cell_type": "code",
   "execution_count": null,
   "metadata": {},
   "outputs": [],
   "source": []
  },
  {
   "cell_type": "code",
   "execution_count": null,
   "metadata": {},
   "outputs": [],
   "source": [
    "def ingest_source(source):\n",
    "    conn = psycopg2.connect(database=\"bobcat\", user='postgres', password='Astro1123!', \n",
    "                            host='localhost', port= '5432')\n",
    "    cur = conn.cursor()\n",
    "    cur.execute(\"INSERT INTO source(Name, RA_hms, Dec_dms, RA_deg, Dec_deg, Redshift, Observation_type) VALUES (%s, %s, %s, %s, %s, %s %s);\", [source.arr_form()])\n",
    "    conn.commit()\n",
    "    conn.close()\n",
    "    \n"
   ]
  },
  {
   "cell_type": "code",
   "execution_count": null,
   "metadata": {},
   "outputs": [],
   "source": []
  },
  {
   "cell_type": "code",
   "execution_count": 14,
   "metadata": {},
   "outputs": [],
   "source": [
    "conn.close()"
   ]
  },
  {
   "cell_type": "code",
   "execution_count": null,
   "metadata": {},
   "outputs": [],
   "source": []
  },
  {
   "cell_type": "code",
   "execution_count": null,
   "metadata": {},
   "outputs": [],
   "source": []
  },
  {
   "cell_type": "code",
   "execution_count": 34,
   "metadata": {},
   "outputs": [
    {
     "data": {
      "text/plain": [
       "0"
      ]
     },
     "execution_count": 34,
     "metadata": {},
     "output_type": "execute_result"
    }
   ],
   "source": [
    "obs_string = []\n",
    "len(obs_string)"
   ]
  },
  {
   "cell_type": "code",
   "execution_count": 35,
   "metadata": {},
   "outputs": [
    {
     "data": {
      "text/plain": [
       "['radio']"
      ]
     },
     "execution_count": 35,
     "metadata": {},
     "output_type": "execute_result"
    }
   ],
   "source": [
    "obs_string.append(\"radio\")\n",
    "obs_string"
   ]
  },
  {
   "cell_type": "code",
   "execution_count": 36,
   "metadata": {},
   "outputs": [
    {
     "data": {
      "text/plain": [
       "['radio', 'visibile']"
      ]
     },
     "execution_count": 36,
     "metadata": {},
     "output_type": "execute_result"
    }
   ],
   "source": [
    "obs_string.append(\"visibile\")\n",
    "obs_string"
   ]
  },
  {
   "cell_type": "code",
   "execution_count": 37,
   "metadata": {},
   "outputs": [
    {
     "data": {
      "text/plain": [
       "2"
      ]
     },
     "execution_count": 37,
     "metadata": {},
     "output_type": "execute_result"
    }
   ],
   "source": [
    "len(obs_string)"
   ]
  },
  {
   "cell_type": "code",
   "execution_count": 38,
   "metadata": {},
   "outputs": [
    {
     "data": {
      "text/plain": [
       "<enumerate at 0x7fa488bc8200>"
      ]
     },
     "execution_count": 38,
     "metadata": {},
     "output_type": "execute_result"
    }
   ],
   "source": [
    "enumerate(obs_string)"
   ]
  },
  {
   "cell_type": "code",
   "execution_count": 39,
   "metadata": {},
   "outputs": [
    {
     "name": "stdout",
     "output_type": "stream",
     "text": [
      "0\n",
      "radio\n",
      "1\n",
      "visibile\n"
     ]
    }
   ],
   "source": [
    "for i, obj in enumerate(obs_string):\n",
    "    print(i)\n",
    "    print(obj)"
   ]
  },
  {
   "cell_type": "code",
   "execution_count": 44,
   "metadata": {},
   "outputs": [
    {
     "data": {
      "text/plain": [
       "[]"
      ]
     },
     "execution_count": 44,
     "metadata": {},
     "output_type": "execute_result"
    }
   ],
   "source": [
    "obs_list = []\n",
    "obs_list"
   ]
  },
  {
   "cell_type": "code",
   "execution_count": 45,
   "metadata": {},
   "outputs": [
    {
     "data": {
      "text/plain": [
       "['radio']"
      ]
     },
     "execution_count": 45,
     "metadata": {},
     "output_type": "execute_result"
    }
   ],
   "source": [
    "obs_list.append(\"radio\")\n",
    "obs_list"
   ]
  },
  {
   "cell_type": "code",
   "execution_count": 46,
   "metadata": {},
   "outputs": [
    {
     "data": {
      "text/plain": [
       "['radio', 'visibile']"
      ]
     },
     "execution_count": 46,
     "metadata": {},
     "output_type": "execute_result"
    }
   ],
   "source": [
    "obs_list.append(\"visibile\")\n",
    "obs_list"
   ]
  },
  {
   "cell_type": "code",
   "execution_count": 47,
   "metadata": {},
   "outputs": [
    {
     "name": "stdout",
     "output_type": "stream",
     "text": [
      "(radio|visibile)\n"
     ]
    }
   ],
   "source": [
    "if len(obs_list) != 0:\n",
    "        obs_string = \"\"\n",
    "        for index, x in enumerate(obs_list):\n",
    "            if index == 0:\n",
    "                obs_string += \"(\" + x\n",
    "            else:\n",
    "                obs_string += \"|\" + x\n",
    "        obs_string += \")\"\n",
    "            \n",
    "print(obs_string)"
   ]
  },
  {
   "cell_type": "code",
   "execution_count": 1,
   "metadata": {},
   "outputs": [
    {
     "data": {
      "text/plain": [
       "50"
      ]
     },
     "execution_count": 1,
     "metadata": {},
     "output_type": "execute_result"
    }
   ],
   "source": [
    "5*10"
   ]
  },
  {
   "cell_type": "code",
   "execution_count": 2,
   "metadata": {},
   "outputs": [
    {
     "data": {
      "text/plain": [
       "5e-05"
      ]
     },
     "execution_count": 2,
     "metadata": {},
     "output_type": "execute_result"
    }
   ],
   "source": [
    "5*1e-5"
   ]
  },
  {
   "cell_type": "code",
   "execution_count": 3,
   "metadata": {},
   "outputs": [
    {
     "data": {
      "text/plain": [
       "6.0"
      ]
     },
     "execution_count": 3,
     "metadata": {},
     "output_type": "execute_result"
    }
   ],
   "source": [
    "0.1*60\n"
   ]
  },
  {
   "cell_type": "code",
   "execution_count": 4,
   "metadata": {},
   "outputs": [
    {
     "data": {
      "text/plain": [
       "6.04"
      ]
     },
     "execution_count": 4,
     "metadata": {},
     "output_type": "execute_result"
    }
   ],
   "source": [
    "60.4*0.1"
   ]
  },
  {
   "cell_type": "code",
   "execution_count": 5,
   "metadata": {},
   "outputs": [
    {
     "ename": "SyntaxError",
     "evalue": "invalid syntax (<ipython-input-5-89ccee6569fc>, line 1)",
     "output_type": "error",
     "traceback": [
      "\u001b[0;36m  File \u001b[0;32m\"<ipython-input-5-89ccee6569fc>\"\u001b[0;36m, line \u001b[0;32m1\u001b[0m\n\u001b[0;31m    60.4.*0.1\u001b[0m\n\u001b[0m         ^\u001b[0m\n\u001b[0;31mSyntaxError\u001b[0m\u001b[0;31m:\u001b[0m invalid syntax\n"
     ]
    }
   ],
   "source": [
    "60.4.*0.1"
   ]
  },
  {
   "cell_type": "code",
   "execution_count": null,
   "metadata": {},
   "outputs": [],
   "source": [
    "m1 = ''"
   ]
  }
 ],
 "metadata": {
  "kernelspec": {
   "display_name": "Python 3",
   "language": "python",
   "name": "python3"
  },
  "language_info": {
   "codemirror_mode": {
    "name": "ipython",
    "version": 3
   },
   "file_extension": ".py",
   "mimetype": "text/x-python",
   "name": "python",
   "nbconvert_exporter": "python",
   "pygments_lexer": "ipython3",
   "version": "3.8.3"
  },
  "toc": {
   "base_numbering": 1,
   "nav_menu": {},
   "number_sections": true,
   "sideBar": true,
   "skip_h1_title": false,
   "title_cell": "Table of Contents",
   "title_sidebar": "Contents",
   "toc_cell": false,
   "toc_position": {},
   "toc_section_display": true,
   "toc_window_display": false
  },
  "vscode": {
   "interpreter": {
    "hash": "31f2aee4e71d21fbe5cf8b01ff0e069b9275f58929596ceb00d14d90e3e16cd6"
   }
  }
 },
 "nbformat": 4,
 "nbformat_minor": 4
}
